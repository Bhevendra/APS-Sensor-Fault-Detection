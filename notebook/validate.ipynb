{
 "cells": [
  {
   "cell_type": "code",
   "execution_count": 5,
   "metadata": {},
   "outputs": [],
   "source": [
    "import numpy as np\n",
    "from scipy import stats\n",
    "rng = np.random.default_rng()\n",
    "sample1 = stats.uniform.rvs(size=100,random_state=rng)\n",
    "sample2 = stats.norm.rvs(size=110, random_state=rng)\n",
    "response = stats.ks_2samp(sample1,sample2)"
   ]
  },
  {
   "cell_type": "code",
   "execution_count": 6,
   "metadata": {},
   "outputs": [
    {
     "data": {
      "text/plain": [
       "1.9839344857931964e-16"
      ]
     },
     "execution_count": 6,
     "metadata": {},
     "output_type": "execute_result"
    }
   ],
   "source": [
    "response.pvalue\n"
   ]
  },
  {
   "cell_type": "code",
   "execution_count": 7,
   "metadata": {},
   "outputs": [
    {
     "data": {
      "text/plain": [
       "True"
      ]
     },
     "execution_count": 7,
     "metadata": {},
     "output_type": "execute_result"
    }
   ],
   "source": [
    "response.pvalue<0.05"
   ]
  },
  {
   "cell_type": "code",
   "execution_count": 8,
   "metadata": {},
   "outputs": [
    {
     "data": {
      "text/plain": [
       "0.0"
      ]
     },
     "execution_count": 8,
     "metadata": {},
     "output_type": "execute_result"
    }
   ],
   "source": [
    "round(response.pvalue,3)"
   ]
  },
  {
   "cell_type": "code",
   "execution_count": 1,
   "metadata": {},
   "outputs": [],
   "source": [
    "# Anamoly in my dataset\n",
    "# -> High null values\n",
    "# -> Missing Columns\n",
    "# -> Outlier\n",
    "# -> Categorical: Gender --> MALE / FEMALE \n"
   ]
  },
  {
   "cell_type": "code",
   "execution_count": 5,
   "metadata": {},
   "outputs": [],
   "source": [
    "import pandas as pd"
   ]
  },
  {
   "cell_type": "code",
   "execution_count": 6,
   "metadata": {},
   "outputs": [],
   "source": [
    "df = pd.read_csv(\"/config/workspace/aps_failure_training_set1.csv\")"
   ]
  },
  {
   "cell_type": "code",
   "execution_count": 17,
   "metadata": {},
   "outputs": [],
   "source": [
    "null_report = df.isna().sum()/df.shape[0]\n",
    "null_report[null_report>0.03].index"
   ]
  },
  {
   "cell_type": "code",
   "execution_count": 19,
   "metadata": {},
   "outputs": [
    {
     "data": {
      "text/plain": [
       "Index([], dtype='object')"
      ]
     },
     "execution_count": 19,
     "metadata": {},
     "output_type": "execute_result"
    }
   ],
   "source": []
  },
  {
   "cell_type": "code",
   "execution_count": 15,
   "metadata": {},
   "outputs": [
    {
     "name": "stdout",
     "output_type": "stream",
     "text": [
      "class 0.0\n",
      "aa_000 0.0\n",
      "ab_000 0.0\n",
      "ac_000 0.0\n",
      "ad_000 0.0\n",
      "ae_000 0.0\n",
      "af_000 0.0\n",
      "ag_000 0.0\n",
      "ag_001 0.0\n",
      "ag_002 0.0\n",
      "ag_003 0.0\n",
      "ag_004 0.0\n",
      "ag_005 0.0\n",
      "ag_006 0.0\n",
      "ag_007 0.0\n",
      "ag_008 0.0\n",
      "ag_009 0.0\n",
      "ah_000 0.0\n",
      "ai_000 0.0\n",
      "aj_000 0.0\n",
      "ak_000 0.0\n",
      "al_000 0.0\n",
      "am_0 0.0\n",
      "an_000 0.0\n",
      "ao_000 0.0\n",
      "ap_000 0.0\n",
      "aq_000 0.0\n",
      "ar_000 0.0\n",
      "as_000 0.0\n",
      "at_000 0.0\n",
      "au_000 0.0\n",
      "av_000 0.0\n",
      "ax_000 0.0\n",
      "ay_000 0.0\n",
      "ay_001 0.0\n",
      "ay_002 0.0\n",
      "ay_003 0.0\n",
      "ay_004 0.0\n",
      "ay_005 0.0\n",
      "ay_006 0.0\n",
      "ay_007 0.0\n",
      "ay_008 0.0\n",
      "ay_009 0.0\n",
      "az_000 0.0\n",
      "az_001 0.0\n",
      "az_002 0.0\n",
      "az_003 0.0\n",
      "az_004 0.0\n",
      "az_005 0.0\n",
      "az_006 0.0\n",
      "az_007 0.0\n",
      "az_008 0.0\n",
      "az_009 0.0\n",
      "ba_000 0.0\n",
      "ba_001 0.0\n",
      "ba_002 0.0\n",
      "ba_003 0.0\n",
      "ba_004 0.0\n",
      "ba_005 0.0\n",
      "ba_006 0.0\n",
      "ba_007 0.0\n",
      "ba_008 0.0\n",
      "ba_009 0.0\n",
      "bb_000 0.0\n",
      "bc_000 0.0\n",
      "bd_000 0.0\n",
      "be_000 0.0\n",
      "bf_000 0.0\n",
      "bg_000 0.0\n",
      "bh_000 0.0\n",
      "bi_000 0.0\n",
      "bj_000 0.0\n",
      "bk_000 0.0\n",
      "bl_000 0.0\n",
      "bm_000 0.0\n",
      "bn_000 0.0\n",
      "bo_000 0.0\n",
      "bp_000 0.0\n",
      "bq_000 0.0\n",
      "br_000 0.0\n",
      "bs_000 0.0\n",
      "bt_000 0.0\n",
      "bu_000 0.0\n",
      "bv_000 0.0\n",
      "bx_000 0.0\n",
      "by_000 0.0\n",
      "bz_000 0.0\n",
      "ca_000 0.0\n",
      "cb_000 0.0\n",
      "cc_000 0.0\n",
      "cd_000 0.0\n",
      "ce_000 0.0\n",
      "cf_000 0.0\n",
      "cg_000 0.0\n",
      "ch_000 0.0\n",
      "ci_000 0.0\n",
      "cj_000 0.0\n",
      "ck_000 0.0\n",
      "cl_000 0.0\n",
      "cm_000 0.0\n",
      "cn_000 0.0\n",
      "cn_001 0.0\n",
      "cn_002 0.0\n",
      "cn_003 0.0\n",
      "cn_004 0.0\n",
      "cn_005 0.0\n",
      "cn_006 0.0\n",
      "cn_007 0.0\n",
      "cn_008 0.0\n",
      "cn_009 0.0\n",
      "co_000 0.0\n",
      "cp_000 0.0\n",
      "cq_000 0.0\n",
      "cr_000 0.0\n",
      "cs_000 0.0\n",
      "cs_001 0.0\n",
      "cs_002 0.0\n",
      "cs_003 0.0\n",
      "cs_004 0.0\n",
      "cs_005 0.0\n",
      "cs_006 0.0\n",
      "cs_007 0.0\n",
      "cs_008 0.0\n",
      "cs_009 0.0\n",
      "ct_000 0.0\n",
      "cu_000 0.0\n",
      "cv_000 0.0\n",
      "cx_000 0.0\n",
      "cy_000 0.0\n",
      "cz_000 0.0\n",
      "da_000 0.0\n",
      "db_000 0.0\n",
      "dc_000 0.0\n",
      "dd_000 0.0\n",
      "de_000 0.0\n",
      "df_000 0.0\n",
      "dg_000 0.0\n",
      "dh_000 0.0\n",
      "di_000 0.0\n",
      "dj_000 0.0\n",
      "dk_000 0.0\n",
      "dl_000 0.0\n",
      "dm_000 0.0\n",
      "dn_000 0.0\n",
      "do_000 0.0\n",
      "dp_000 0.0\n",
      "dq_000 0.0\n",
      "dr_000 0.0\n",
      "ds_000 0.0\n",
      "dt_000 0.0\n",
      "du_000 0.0\n",
      "dv_000 0.0\n",
      "dx_000 0.0\n",
      "dy_000 0.0\n",
      "dz_000 0.0\n",
      "ea_000 0.0\n",
      "eb_000 0.0\n",
      "ec_00 0.0\n",
      "ed_000 0.0\n",
      "ee_000 0.0\n",
      "ee_001 0.0\n",
      "ee_002 0.0\n",
      "ee_003 0.0\n",
      "ee_004 0.0\n",
      "ee_005 0.0\n",
      "ee_006 0.0\n",
      "ee_007 0.0\n",
      "ee_008 0.0\n",
      "ee_009 0.0\n",
      "ef_000 0.0\n",
      "eg_000 0.0\n"
     ]
    }
   ],
   "source": [
    "for column_name, missing_percentage in zip((df.isnull().sum()/df.shape[0]).index , (df.isnull().sum()/df.shape[0]).values):\n",
    "    print(column_name,missing_percentage*100)\n",
    "    if missing_percentage>0.3:\n",
    "        drop_column_names.append(column_name)"
   ]
  },
  {
   "cell_type": "code",
   "execution_count": null,
   "metadata": {},
   "outputs": [],
   "source": []
  }
 ],
 "metadata": {
  "kernelspec": {
   "display_name": "Python 3.8.10 64-bit",
   "language": "python",
   "name": "python3"
  },
  "language_info": {
   "codemirror_mode": {
    "name": "ipython",
    "version": 3
   },
   "file_extension": ".py",
   "mimetype": "text/x-python",
   "name": "python",
   "nbconvert_exporter": "python",
   "pygments_lexer": "ipython3",
   "version": "3.8.10"
  },
  "orig_nbformat": 4,
  "vscode": {
   "interpreter": {
    "hash": "e7370f93d1d0cde622a1f8e1c04877d8463912d04d973331ad4851f04de6915a"
   }
  }
 },
 "nbformat": 4,
 "nbformat_minor": 2
}
